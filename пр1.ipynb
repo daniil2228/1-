﻿{
  "nbformat": 4,
  "nbformat_minor": 0,
  "metadata": {
    "colab": {
      "name": "Практическая1",
      "provenance": []
    },
    "kernelspec": {
      "name": "python3",
      "display_name": "Python 3"
    }
  },
  "cells": [
    {
      "cell_type": "code",
      "metadata": {
        "id": "VYsL0DsuMIws",
        "outputId": "c2706e06-889e-4b9b-9f8f-97aaef1d51ab",
        "colab": {
          "base_uri": "https://localhost:8080/",
          "height": 67
        }
      },
      "source": [
        "#Солодухин Д АДЭУ-201\n",
        "class Human:\n",
        "  def __init__(self,name,age,iq):\n",
        "    self.name=name\n",
        "    self.age=age\n",
        "    if self.age<0:\n",
        "      print('Oops, necromancer detected=)')\n",
        "    self.iq=iq\n",
        " \n",
        "Human1=Human('Georgy',-1,0) #Создали экземпляр класса\n",
        "Human2=Human('Larisa',42,100)\n",
        "print(Human1.name,Human1.age,Human1.iq) #вывод свойств экземпляра\n",
        "print(Human2.name,Human2.age,Human2.iq)\n"
      ],
      "execution_count": null,
      "outputs": [
        {
          "output_type": "stream",
          "text": [
            "Oops, necromancer detected=)\n",
            "Georgy -1 0\n",
            "Larisa 42 100\n"
          ],
          "name": "stdout"
        }
      ]
    },
    {
      "cell_type": "code",
      "metadata": {
        "id": "gSN2a92u477X",
        "outputId": "537c0128-8c80-4413-ebc5-3cdf045b95ac",
        "colab": {
          "base_uri": "https://localhost:8080/",
          "height": 50
        }
      },
      "source": [
        "class Point:\n",
        "  amout = 0\n",
        "\n",
        "  def __init__(self, *args) :\n",
        "    if len(args) == 2:\n",
        "      self.x = args[0]\n",
        "      self.y = args[1]\n",
        "    else:\n",
        "      self.x = self.y = 0\n",
        "      Point.amout += 1\n",
        "  def __del__(self):\n",
        "      Point.amout -= 1\n",
        "  def distance(self) :\n",
        "      return (self.x ** 2 + self.y **2)** 0.5\n",
        "  def __str__(self) :\n",
        "      return '({}; {})'.format(self.x, self.y)\n",
        "p = Point(36,42)\n",
        "print(p)\n",
        "print(round(p.distance(), 2))"
      ],
      "execution_count": 39,
      "outputs": [
        {
          "output_type": "stream",
          "text": [
            "(36; 42)\n",
            "55.32\n"
          ],
          "name": "stdout"
        }
      ]
    },
    {
      "cell_type": "code",
      "metadata": {
        "id": "xDod1MtPVwHm",
        "outputId": "253a590e-869e-4276-a111-3aad939bb7d6",
        "colab": {
          "base_uri": "https://localhost:8080/",
          "height": 134
        }
      },
      "source": [
        "from math import sqrt, pi\n",
        "class Circle:\n",
        "    def __init__(self,x,y, radius):\n",
        "        self.center = Point(x,y)\n",
        "        self.radius = radius\n",
        "        if self.radius < 0:\n",
        "            print(\"radius should be greater than 0\")\n",
        "    def  lencircle(self):\n",
        "        return 2 * pi * self.radius\n",
        " \n",
        "    def Square(self):\n",
        "        return pi* self.radius**2\n",
        " \n",
        "    def move (self,x,y):\n",
        "        self.center.x = x\n",
        "        self.center.y = y\n",
        " \n",
        "    def distance(self):\n",
        "        return sqrt(self.center.x**2 + self.center.y**2)\n",
        "  \n",
        "    def __str__(self):\n",
        "        if self.radius < 0:\n",
        "            return \"radius should be greater than 0\"\n",
        "        else:\n",
        "            return \"Circle: center: {}, radius: {}\" .format(self.center, self.radius)\n",
        " \n",
        "Circle1 = Circle(3,4,5) \n",
        "Circle2 = Circle(5, -5, -5)\n",
        " \n",
        "print('Длина окружности: ', round(Circle1.lencircle(), 2))\n",
        "print('Площадь окружности: ', round(Circle1.Square(), 2))\n",
        "print('Расстояние: ', round(Circle1.distance(), 2))\n",
        "Circle1.move(-20, 15)\n",
        "print('Расстояние после перемещения: ', round(Circle1.distance(), 2))\n",
        " \n",
        "print('Circle1:', Circle1)\n",
        "print('Circle2:', Circle2)\n",
        " \n"
      ],
      "execution_count": 42,
      "outputs": [
        {
          "output_type": "stream",
          "text": [
            "radius should be greater than 0\n",
            "Длина окружности:  31.42\n",
            "Площадь окружности:  78.54\n",
            "Расстояние:  5.0\n",
            "Расстояние после перемещения:  25.0\n",
            "Circle1: Circle: center: (-20; 15), radius: 5\n",
            "Circle2: radius should be greater than 0\n"
          ],
          "name": "stdout"
        }
      ]
    }
  ]
}